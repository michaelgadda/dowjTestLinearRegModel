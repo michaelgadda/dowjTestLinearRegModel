{
 "cells": [
  {
   "cell_type": "code",
   "execution_count": 32,
   "metadata": {},
   "outputs": [],
   "source": [
    "import pandas as pd \n",
    "import matplotlib.pyplot as plt\n",
    "import numpy as np \n",
    "import statsmodels.api as sm\n",
    "import math\n",
    "\n",
    "from sklearn.model_selection import train_test_split as tts\n",
    "from sklearn.linear_model import LinearRegression\n",
    "from sklearn.metrics import mean_squared_error, r2_score, mean_absolute_error\n",
    "\n",
    "from scipy import stats\n",
    "from scipy.stats import kurtosis, skew\n",
    "\n",
    "%matplotlib inline "
   ]
  },
  {
   "cell_type": "code",
   "execution_count": 91,
   "metadata": {},
   "outputs": [
    {
     "data": {
      "text/html": [
       "<div>\n",
       "<style scoped>\n",
       "    .dataframe tbody tr th:only-of-type {\n",
       "        vertical-align: middle;\n",
       "    }\n",
       "\n",
       "    .dataframe tbody tr th {\n",
       "        vertical-align: top;\n",
       "    }\n",
       "\n",
       "    .dataframe thead th {\n",
       "        text-align: right;\n",
       "    }\n",
       "</style>\n",
       "<table border=\"1\" class=\"dataframe\">\n",
       "  <thead>\n",
       "    <tr style=\"text-align: right;\">\n",
       "      <th></th>\n",
       "      <th>Range</th>\n",
       "      <th>Volume</th>\n",
       "    </tr>\n",
       "  </thead>\n",
       "  <tbody>\n",
       "    <tr>\n",
       "      <th>count</th>\n",
       "      <td>9067.000000</td>\n",
       "      <td>9.067000e+03</td>\n",
       "    </tr>\n",
       "    <tr>\n",
       "      <th>mean</th>\n",
       "      <td>128.931951</td>\n",
       "      <td>1.474262e+08</td>\n",
       "    </tr>\n",
       "    <tr>\n",
       "      <th>std</th>\n",
       "      <td>130.839970</td>\n",
       "      <td>1.310380e+08</td>\n",
       "    </tr>\n",
       "    <tr>\n",
       "      <th>min</th>\n",
       "      <td>6.000000</td>\n",
       "      <td>2.530000e+06</td>\n",
       "    </tr>\n",
       "    <tr>\n",
       "      <th>25%</th>\n",
       "      <td>48.000000</td>\n",
       "      <td>2.734000e+07</td>\n",
       "    </tr>\n",
       "    <tr>\n",
       "      <th>50%</th>\n",
       "      <td>95.000000</td>\n",
       "      <td>1.136200e+08</td>\n",
       "    </tr>\n",
       "    <tr>\n",
       "      <th>75%</th>\n",
       "      <td>164.000000</td>\n",
       "      <td>2.351750e+08</td>\n",
       "    </tr>\n",
       "    <tr>\n",
       "      <th>max</th>\n",
       "      <td>1904.000000</td>\n",
       "      <td>2.190810e+09</td>\n",
       "    </tr>\n",
       "  </tbody>\n",
       "</table>\n",
       "</div>"
      ],
      "text/plain": [
       "             Range        Volume\n",
       "count  9067.000000  9.067000e+03\n",
       "mean    128.931951  1.474262e+08\n",
       "std     130.839970  1.310380e+08\n",
       "min       6.000000  2.530000e+06\n",
       "25%      48.000000  2.734000e+07\n",
       "50%      95.000000  1.136200e+08\n",
       "75%     164.000000  2.351750e+08\n",
       "max    1904.000000  2.190810e+09"
      ]
     },
     "execution_count": 91,
     "metadata": {},
     "output_type": "execute_result"
    }
   ],
   "source": [
    "path = r\"E:\\Downloads\\^DJI.xlsx\"\n",
    "\n",
    "dowj_data = pd.read_excel(path)\n",
    "\n",
    "dowj_data.index = pd.to_datetime(dowj_data['Date'])\n",
    "\n",
    "dowj_data = dowj_data.drop(['Date'], axis = 1)\n",
    "dowj_data = dowj_data.drop(['Open'], axis = 1)\n",
    "dowj_data = dowj_data.drop(['High'], axis = 1)\n",
    "dowj_data = dowj_data.drop(['Low'], axis = 1)\n",
    "dowj_data = dowj_data.drop(['Day Change'], axis = 1)\n",
    "dowj_data = dowj_data.drop(['Close'], axis = 1)\n",
    "dowj_data = dowj_data.drop(['Adj Close'], axis = 1)\n",
    "dowj_data.head()\n",
    "dowj_data.describe()"
   ]
  },
  {
   "cell_type": "code",
   "execution_count": 34,
   "metadata": {
    "scrolled": true
   },
   "outputs": [
    {
     "data": {
      "text/plain": [
       "Range     int64\n",
       "Volume    int64\n",
       "dtype: object"
      ]
     },
     "execution_count": 34,
     "metadata": {},
     "output_type": "execute_result"
    }
   ],
   "source": [
    "dowj_data.dtypes"
   ]
  },
  {
   "cell_type": "code",
   "execution_count": 98,
   "metadata": {
    "scrolled": true
   },
   "outputs": [
    {
     "data": {
      "text/html": [
       "<div>\n",
       "<style scoped>\n",
       "    .dataframe tbody tr th:only-of-type {\n",
       "        vertical-align: middle;\n",
       "    }\n",
       "\n",
       "    .dataframe tbody tr th {\n",
       "        vertical-align: top;\n",
       "    }\n",
       "\n",
       "    .dataframe thead th {\n",
       "        text-align: right;\n",
       "    }\n",
       "</style>\n",
       "<table border=\"1\" class=\"dataframe\">\n",
       "  <thead>\n",
       "    <tr style=\"text-align: right;\">\n",
       "      <th></th>\n",
       "      <th>Day_Range</th>\n",
       "      <th>Volume</th>\n",
       "    </tr>\n",
       "    <tr>\n",
       "      <th>Date</th>\n",
       "      <th></th>\n",
       "      <th></th>\n",
       "    </tr>\n",
       "  </thead>\n",
       "  <tbody>\n",
       "    <tr>\n",
       "      <th>2021-01-19</th>\n",
       "      <td>221</td>\n",
       "      <td>386400000</td>\n",
       "    </tr>\n",
       "    <tr>\n",
       "      <th>2021-01-15</th>\n",
       "      <td>329</td>\n",
       "      <td>433000000</td>\n",
       "    </tr>\n",
       "    <tr>\n",
       "      <th>2021-01-14</th>\n",
       "      <td>241</td>\n",
       "      <td>427810000</td>\n",
       "    </tr>\n",
       "    <tr>\n",
       "      <th>2021-01-13</th>\n",
       "      <td>161</td>\n",
       "      <td>413250000</td>\n",
       "    </tr>\n",
       "    <tr>\n",
       "      <th>2021-01-12</th>\n",
       "      <td>225</td>\n",
       "      <td>362620000</td>\n",
       "    </tr>\n",
       "  </tbody>\n",
       "</table>\n",
       "</div>"
      ],
      "text/plain": [
       "            Day_Range     Volume\n",
       "Date                            \n",
       "2021-01-19        221  386400000\n",
       "2021-01-15        329  433000000\n",
       "2021-01-14        241  427810000\n",
       "2021-01-13        161  413250000\n",
       "2021-01-12        225  362620000"
      ]
     },
     "execution_count": 98,
     "metadata": {},
     "output_type": "execute_result"
    }
   ],
   "source": [
    "new_column_names = {'Range': 'Day_Range'}\n",
    "\n",
    "dowj_data = dowj_data.rename(columns = new_column_names)\n",
    "dowj_data.head()"
   ]
  },
  {
   "cell_type": "code",
   "execution_count": 36,
   "metadata": {},
   "outputs": [],
   "source": [
    "#display(dowj_data.isna().any())\n",
    "#dowj_data = dowj_data.dropna()\n",
    "#dowj_data.isna().any()"
   ]
  },
  {
   "cell_type": "code",
   "execution_count": 99,
   "metadata": {},
   "outputs": [
    {
     "data": {
      "image/png": "[encoded data removed]",
      "text/plain": [
       "<Figure size 432x288 with 1 Axes>"
      ]
     },
     "metadata": {
      "needs_background": "light"
     },
     "output_type": "display_data"
    }
   ],
   "source": [
    "x = dowj_data['Day_Range']\n",
    "y = dowj_data['Volume']\n",
    "\n",
    "plt.plot(x,y, 'x', color = 'blue', label = 'Volume and Daily Range')\n",
    "plt.title(\"Volume vs. Daily Range in ^DOWJ\")\n",
    "plt.xlabel(\"Daily Price Range\")\n",
    "plt.ylabel(\"Daily Volume\")\n",
    "plt.legend()\n",
    "plt.show()"
   ]
  },
  {
   "cell_type": "code",
   "execution_count": 100,
   "metadata": {},
   "outputs": [
    {
     "data": {
      "text/html": [
       "<div>\n",
       "<style scoped>\n",
       "    .dataframe tbody tr th:only-of-type {\n",
       "        vertical-align: middle;\n",
       "    }\n",
       "\n",
       "    .dataframe tbody tr th {\n",
       "        vertical-align: top;\n",
       "    }\n",
       "\n",
       "    .dataframe thead th {\n",
       "        text-align: right;\n",
       "    }\n",
       "</style>\n",
       "<table border=\"1\" class=\"dataframe\">\n",
       "  <thead>\n",
       "    <tr style=\"text-align: right;\">\n",
       "      <th></th>\n",
       "      <th>Day_Range</th>\n",
       "      <th>Volume</th>\n",
       "    </tr>\n",
       "  </thead>\n",
       "  <tbody>\n",
       "    <tr>\n",
       "      <th>Day_Range</th>\n",
       "      <td>1.000000</td>\n",
       "      <td>0.656204</td>\n",
       "    </tr>\n",
       "    <tr>\n",
       "      <th>Volume</th>\n",
       "      <td>0.656204</td>\n",
       "      <td>1.000000</td>\n",
       "    </tr>\n",
       "  </tbody>\n",
       "</table>\n",
       "</div>"
      ],
      "text/plain": [
       "           Day_Range    Volume\n",
       "Day_Range   1.000000  0.656204\n",
       "Volume      0.656204  1.000000"
      ]
     },
     "execution_count": 100,
     "metadata": {},
     "output_type": "execute_result"
    }
   ],
   "source": [
    "dowj_data.corr()"
   ]
  },
  {
   "cell_type": "code",
   "execution_count": 101,
   "metadata": {},
   "outputs": [
    {
     "data": {
      "text/html": [
       "<div>\n",
       "<style scoped>\n",
       "    .dataframe tbody tr th:only-of-type {\n",
       "        vertical-align: middle;\n",
       "    }\n",
       "\n",
       "    .dataframe tbody tr th {\n",
       "        vertical-align: top;\n",
       "    }\n",
       "\n",
       "    .dataframe thead th {\n",
       "        text-align: right;\n",
       "    }\n",
       "</style>\n",
       "<table border=\"1\" class=\"dataframe\">\n",
       "  <thead>\n",
       "    <tr style=\"text-align: right;\">\n",
       "      <th></th>\n",
       "      <th>Day_Range</th>\n",
       "      <th>Volume</th>\n",
       "    </tr>\n",
       "  </thead>\n",
       "  <tbody>\n",
       "    <tr>\n",
       "      <th>count</th>\n",
       "      <td>9067.000000</td>\n",
       "      <td>9.067000e+03</td>\n",
       "    </tr>\n",
       "    <tr>\n",
       "      <th>mean</th>\n",
       "      <td>128.931951</td>\n",
       "      <td>1.474262e+08</td>\n",
       "    </tr>\n",
       "    <tr>\n",
       "      <th>std</th>\n",
       "      <td>130.839970</td>\n",
       "      <td>1.310380e+08</td>\n",
       "    </tr>\n",
       "    <tr>\n",
       "      <th>min</th>\n",
       "      <td>6.000000</td>\n",
       "      <td>2.530000e+06</td>\n",
       "    </tr>\n",
       "    <tr>\n",
       "      <th>25%</th>\n",
       "      <td>48.000000</td>\n",
       "      <td>2.734000e+07</td>\n",
       "    </tr>\n",
       "    <tr>\n",
       "      <th>50%</th>\n",
       "      <td>95.000000</td>\n",
       "      <td>1.136200e+08</td>\n",
       "    </tr>\n",
       "    <tr>\n",
       "      <th>75%</th>\n",
       "      <td>164.000000</td>\n",
       "      <td>2.351750e+08</td>\n",
       "    </tr>\n",
       "    <tr>\n",
       "      <th>max</th>\n",
       "      <td>1904.000000</td>\n",
       "      <td>2.190810e+09</td>\n",
       "    </tr>\n",
       "  </tbody>\n",
       "</table>\n",
       "</div>"
      ],
      "text/plain": [
       "         Day_Range        Volume\n",
       "count  9067.000000  9.067000e+03\n",
       "mean    128.931951  1.474262e+08\n",
       "std     130.839970  1.310380e+08\n",
       "min       6.000000  2.530000e+06\n",
       "25%      48.000000  2.734000e+07\n",
       "50%      95.000000  1.136200e+08\n",
       "75%     164.000000  2.351750e+08\n",
       "max    1904.000000  2.190810e+09"
      ]
     },
     "execution_count": 101,
     "metadata": {},
     "output_type": "execute_result"
    }
   ],
   "source": [
    "dowj_data.describe()"
   ]
  },
  {
   "cell_type": "code",
   "execution_count": 102,
   "metadata": {},
   "outputs": [
    {
     "data": {
      "text/plain": [
       "array([[<matplotlib.axes._subplots.AxesSubplot object at 0x0000026ACC0418E0>,\n",
       "        <matplotlib.axes._subplots.AxesSubplot object at 0x0000026ACC032AC0>]],\n",
       "      dtype=object)"
      ]
     },
     "execution_count": 102,
     "metadata": {},
     "output_type": "execute_result"
    },
    {
     "data": {
      "image/png": "[encoded data removed]",
      "text/plain": [
       "<Figure size 432x288 with 2 Axes>"
      ]
     },
     "metadata": {
      "needs_background": "light"
     },
     "output_type": "display_data"
    }
   ],
   "source": [
    "dowj_data.hist(grid = False, color= 'blue')"
   ]
  },
  {
   "cell_type": "code",
   "execution_count": 103,
   "metadata": {},
   "outputs": [
    {
     "data": {
      "text/plain": [
       "'Volume kurtosis: 7.7655964734122715'"
      ]
     },
     "metadata": {},
     "output_type": "display_data"
    },
    {
     "data": {
      "text/plain": [
       "'Range kurtosis:  2.8e+01'"
      ]
     },
     "metadata": {},
     "output_type": "display_data"
    },
    {
     "data": {
      "text/plain": [
       "'Range skew:  4.0'"
      ]
     },
     "metadata": {},
     "output_type": "display_data"
    },
    {
     "data": {
      "text/plain": [
       "'Volume skew:  1.4'"
      ]
     },
     "metadata": {},
     "output_type": "display_data"
    },
    {
     "data": {
      "text/plain": [
       "(array([  16.,  616., 1663., 2026., 2382., 1604.,  556.,  138.,   52.,\n",
       "          14.]),\n",
       " array([ 1.96231199,  2.89405664,  3.82580129,  4.75754593,  5.68929058,\n",
       "         6.62103523,  7.55277988,  8.48452453,  9.41626918, 10.34801383,\n",
       "        11.27975847]),\n",
       " <a list of 10 Patch objects>)"
      ]
     },
     "execution_count": 103,
     "metadata": {},
     "output_type": "execute_result"
    },
    {
     "data": {
      "image/png": "[encoded data removed]",
      "text/plain": [
       "<Figure size 432x288 with 1 Axes>"
      ]
     },
     "metadata": {
      "needs_background": "light"
     },
     "output_type": "display_data"
    }
   ],
   "source": [
    "Range_kurtosis = kurtosis(dowj_data['Day_Range'],fisher = True)\n",
    "Volume_kurtosis = kurtosis(dowj_data['Volume'], fisher = True) \n",
    "\n",
    "Range_skew = skew(dowj_data['Day_Range'])\n",
    "Volume_skew = skew(dowj_data['Volume']) \n",
    "\n",
    "display(\"Volume kurtosis: {:2}\".format(Volume_kurtosis))\n",
    "display(\"Range kurtosis: {: .2}\".format(Range_kurtosis))\n",
    "\n",
    "display(\"Range skew: {: .2}\".format(Range_skew))\n",
    "display(\"Volume skew: {: .2}\".format(Volume_skew))\n",
    "\n",
    "plt.hist(stats.boxcox(dowj_data['Day_Range'],lmbda=0.10))\n"
   ]
  },
  {
   "cell_type": "code",
   "execution_count": 104,
   "metadata": {},
   "outputs": [
    {
     "data": {
      "text/plain": [
       "(array([1.900e+02, 2.407e+03, 1.004e+03, 1.474e+03, 2.424e+03, 1.371e+03,\n",
       "        1.780e+02, 1.800e+01, 0.000e+00, 1.000e+00]),\n",
       " array([155.52917587, 226.11511831, 296.70106076, 367.2870032 ,\n",
       "        437.87294565, 508.45888809, 579.04483054, 649.63077298,\n",
       "        720.21671543, 790.80265787, 861.38860032]),\n",
       " <a list of 10 Patch objects>)"
      ]
     },
     "execution_count": 104,
     "metadata": {},
     "output_type": "execute_result"
    },
    {
     "data": {
      "image/png": "[encoded data removed]",
      "text/plain": [
       "<Figure size 432x288 with 1 Axes>"
      ]
     },
     "metadata": {
      "needs_background": "light"
     },
     "output_type": "display_data"
    }
   ],
   "source": [
    "plt.hist(stats.boxcox(dowj_data['Volume'],lmbda=0.25))"
   ]
  },
  {
   "cell_type": "code",
   "execution_count": 167,
   "metadata": {},
   "outputs": [],
   "source": [
    "Y = dowj_data[['Day_Range']]\n",
    "X = dowj_data[['Volume']]\n",
    "\n",
    "#X = stats.boxcox(dowj_data['Volume'], lmbda = 0.25)\n",
    "\n",
    "#X = stats.boxcox(dowj_data['Day_Range'], lmbda = 0.25)\n",
    "\n",
    "X_train, x_test, Y_train, y_test = tts(X, Y, test_size = .2, random_state = 1)\n",
    "\n",
    "#X_train = np.reshape(X_train,(-1,1))\n",
    "#Y_train = np.reshape(Y_train,(-1,1))\n",
    "#x_test = np.reshape(x_test,(-1,1))\n",
    "#y_test = np.reshape(y_test,(-1,1))"
   ]
  },
  {
   "cell_type": "code",
   "execution_count": 168,
   "metadata": {},
   "outputs": [
    {
     "data": {
      "text/plain": [
       "LinearRegression()"
      ]
     },
     "execution_count": 168,
     "metadata": {},
     "output_type": "execute_result"
    }
   ],
   "source": [
    "regression_model = LinearRegression()\n",
    "\n",
    "regression_model.fit(X_train, Y_train)"
   ]
  },
  {
   "cell_type": "code",
   "execution_count": 169,
   "metadata": {},
   "outputs": [
    {
     "name": "stdout",
     "output_type": "stream",
     "text": [
      "The coeffecient for our model is 6.811355834546615e-07\n",
      "The intercept for our model is 28.788689896026384\n"
     ]
    }
   ],
   "source": [
    "intercept = regression_model.intercept_[0]\n",
    "coeffecient = regression_model.coef_[0][0]\n",
    "\n",
    "print(\"The coeffecient for our model is {:2}\".format(coeffecient))\n",
    "\n",
    "print(\"The intercept for our model is {:2}\".format(intercept))"
   ]
  },
  {
   "cell_type": "code",
   "execution_count": 170,
   "metadata": {},
   "outputs": [
    {
     "name": "stdout",
     "output_type": "stream",
     "text": [
      "35.600045730573\n"
     ]
    }
   ],
   "source": [
    "prediction = regression_model.predict([[10000000]])\n",
    "predicted_value = prediction[0][0]\n",
    "print(predicted_value)"
   ]
  },
  {
   "cell_type": "code",
   "execution_count": 171,
   "metadata": {},
   "outputs": [
    {
     "data": {
      "text/plain": [
       "array([[44.50929916],\n",
       "       [75.80747922],\n",
       "       [34.41486982],\n",
       "       [85.00962095],\n",
       "       [45.98055202]])"
      ]
     },
     "execution_count": 171,
     "metadata": {},
     "output_type": "execute_result"
    }
   ],
   "source": [
    "y_predict = regression_model.predict(x_test)\n",
    "\n",
    "y_predict[:5]"
   ]
  },
  {
   "cell_type": "code",
   "execution_count": 172,
   "metadata": {},
   "outputs": [],
   "source": [
    "X2 = sm.add_constant(X)\n",
    "\n",
    "model = sm.OLS(Y,X2)\n",
    "\n",
    "est = model.fit()"
   ]
  },
  {
   "cell_type": "code",
   "execution_count": 173,
   "metadata": {},
   "outputs": [
    {
     "data": {
      "text/html": [
       "<div>\n",
       "<style scoped>\n",
       "    .dataframe tbody tr th:only-of-type {\n",
       "        vertical-align: middle;\n",
       "    }\n",
       "\n",
       "    .dataframe tbody tr th {\n",
       "        vertical-align: top;\n",
       "    }\n",
       "\n",
       "    .dataframe thead th {\n",
       "        text-align: right;\n",
       "    }\n",
       "</style>\n",
       "<table border=\"1\" class=\"dataframe\">\n",
       "  <thead>\n",
       "    <tr style=\"text-align: right;\">\n",
       "      <th></th>\n",
       "      <th>0</th>\n",
       "      <th>1</th>\n",
       "    </tr>\n",
       "  </thead>\n",
       "  <tbody>\n",
       "    <tr>\n",
       "      <th>const</th>\n",
       "      <td>2.927694e+01</td>\n",
       "      <td>3.539617e+01</td>\n",
       "    </tr>\n",
       "    <tr>\n",
       "      <th>Volume</th>\n",
       "      <td>6.396997e-07</td>\n",
       "      <td>6.707240e-07</td>\n",
       "    </tr>\n",
       "  </tbody>\n",
       "</table>\n",
       "</div>"
      ],
      "text/plain": [
       "                   0             1\n",
       "const   2.927694e+01  3.539617e+01\n",
       "Volume  6.396997e-07  6.707240e-07"
      ]
     },
     "execution_count": 173,
     "metadata": {},
     "output_type": "execute_result"
    }
   ],
   "source": [
    "est.conf_int()"
   ]
  },
  {
   "cell_type": "code",
   "execution_count": 174,
   "metadata": {},
   "outputs": [
    {
     "data": {
      "text/plain": [
       "const     3.412248e-93\n",
       "Volume    0.000000e+00\n",
       "dtype: float64"
      ]
     },
     "execution_count": 174,
     "metadata": {},
     "output_type": "execute_result"
    }
   ],
   "source": [
    "est.pvalues"
   ]
  },
  {
   "cell_type": "code",
   "execution_count": 175,
   "metadata": {},
   "outputs": [
    {
     "name": "stdout",
     "output_type": "stream",
     "text": [
      "MSE  9.31e+03\n",
      "MSE  57.3\n",
      "MSE  96.5\n"
     ]
    }
   ],
   "source": [
    "model_mse = mean_squared_error(y_test, y_predict)\n",
    "\n",
    "model_mae = mean_absolute_error(y_test, y_predict)\n",
    "\n",
    "model_rmse = math.sqrt(model_mse)\n",
    "\n",
    "print(\"MSE {: .3}\".format(model_mse))\n",
    "print(\"MSE {: .3}\".format(model_mae))\n",
    "print(\"MSE {: .3}\".format(model_rmse))"
   ]
  },
  {
   "cell_type": "code",
   "execution_count": 176,
   "metadata": {},
   "outputs": [
    {
     "name": "stdout",
     "output_type": "stream",
     "text": [
      "0.372410796571215\n"
     ]
    }
   ],
   "source": [
    "model_r2 = r2_score(y_test, y_predict)\n",
    "print(model_r2)"
   ]
  },
  {
   "cell_type": "code",
   "execution_count": 177,
   "metadata": {},
   "outputs": [
    {
     "name": "stdout",
     "output_type": "stream",
     "text": [
      "                            OLS Regression Results                            \n",
      "==============================================================================\n",
      "Dep. Variable:              Day_Range   R-squared:                       0.431\n",
      "Model:                            OLS   Adj. R-squared:                  0.431\n",
      "Method:                 Least Squares   F-statistic:                     6855.\n",
      "Date:                Thu, 21 Jan 2021   Prob (F-statistic):               0.00\n",
      "Time:                        08:09:29   Log-Likelihood:                -54504.\n",
      "No. Observations:                9067   AIC:                         1.090e+05\n",
      "Df Residuals:                    9065   BIC:                         1.090e+05\n",
      "Df Model:                           1                                         \n",
      "Covariance Type:            nonrobust                                         \n",
      "==============================================================================\n",
      "                 coef    std err          t      P>|t|      [0.025      0.975]\n",
      "------------------------------------------------------------------------------\n",
      "const         32.3366      1.561     20.717      0.000      29.277      35.396\n",
      "Volume      6.552e-07   7.91e-09     82.797      0.000     6.4e-07    6.71e-07\n",
      "==============================================================================\n",
      "Omnibus:                     6111.736   Durbin-Watson:                   0.737\n",
      "Prob(Omnibus):                  0.000   Jarque-Bera (JB):           242670.892\n",
      "Skew:                           2.707   Prob(JB):                         0.00\n",
      "Kurtosis:                      27.759   Cond. No.                     2.97e+08\n",
      "==============================================================================\n",
      "\n",
      "Warnings:\n",
      "[1] Standard Errors assume that the covariance matrix of the errors is correctly specified.\n",
      "[2] The condition number is large, 2.97e+08. This might indicate that there are\n",
      "strong multicollinearity or other numerical problems.\n"
     ]
    }
   ],
   "source": [
    "print(est.summary())\n"
   ]
  },
  {
   "cell_type": "code",
   "execution_count": 178,
   "metadata": {},
   "outputs": [
    {
     "data": {
      "text/plain": [
       "Text(0.5, 1.0, 'model residuals')"
      ]
     },
     "execution_count": 178,
     "metadata": {},
     "output_type": "execute_result"
    },
    {
     "data": {
      "image/png": "[encoded data removed]",
      "text/plain": [
       "<Figure size 432x288 with 1 Axes>"
      ]
     },
     "metadata": {
      "needs_background": "light"
     },
     "output_type": "display_data"
    }
   ],
   "source": [
    "(y_test - y_predict).hist(grid = False, color = 'blue')\n",
    "plt.title(\"model residuals\")"
   ]
  },
  {
   "cell_type": "code",
   "execution_count": 179,
   "metadata": {},
   "outputs": [
    {
     "data": {
      "text/plain": [
       "Text(0, 0.5, 'Day Change')"
      ]
     },
     "execution_count": 179,
     "metadata": {},
     "output_type": "execute_result"
    },
    {
     "data": {
      "image/png": "[encoded data removed]",
      "text/plain": [
       "<Figure size 432x288 with 1 Axes>"
      ]
     },
     "metadata": {
      "needs_background": "light"
     },
     "output_type": "display_data"
    }
   ],
   "source": [
    "plt.scatter(x_test, y_test, color = 'blue', label = 'Day Change')\n",
    "plt.plot(x_test, y_predict, color = 'red', linewidth = 3, linestyle = '-', label = 'Regression Line')\n",
    "plt.title(\"Linear Regression Model Vol vs. Day Change ^Dowj\")\n",
    "plt.xlabel(\"Volume\")\n",
    "plt.ylabel(\"Day Change\")"
   ]
  },
  {
   "cell_type": "code",
   "execution_count": null,
   "metadata": {},
   "outputs": [],
   "source": []
  },
  {
   "cell_type": "code",
   "execution_count": null,
   "metadata": {},
   "outputs": [],
   "source": []
  }
 ],
 "metadata": {
  "kernelspec": {
   "display_name": "Python 3",
   "language": "python",
   "name": "python3"
  },
  "language_info": {
   "codemirror_mode": {
    "name": "ipython",
    "version": 3
   },
   "file_extension": ".py",
   "mimetype": "text/x-python",
   "name": "python",
   "nbconvert_exporter": "python",
   "pygments_lexer": "ipython3",
   "version": "3.8.3"
  }
 },
 "nbformat": 4,
 "nbformat_minor": 4
}
